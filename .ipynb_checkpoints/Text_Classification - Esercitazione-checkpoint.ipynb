{
 "cells": [
  {
   "cell_type": "code",
   "execution_count": 9,
   "id": "769c0f01",
   "metadata": {},
   "outputs": [
    {
     "ename": "ModuleNotFoundError",
     "evalue": "No module named 'spacy'",
     "output_type": "error",
     "traceback": [
      "\u001b[1;31m---------------------------------------------------------------------------\u001b[0m",
      "\u001b[1;31mModuleNotFoundError\u001b[0m                       Traceback (most recent call last)",
      "\u001b[1;32m<ipython-input-9-a2c544805871>\u001b[0m in \u001b[0;36m<module>\u001b[1;34m\u001b[0m\n\u001b[0;32m      1\u001b[0m \u001b[1;32mimport\u001b[0m \u001b[0mstring\u001b[0m\u001b[1;33m\u001b[0m\u001b[1;33m\u001b[0m\u001b[0m\n\u001b[1;32m----> 2\u001b[1;33m \u001b[1;32mimport\u001b[0m \u001b[0mspacy\u001b[0m\u001b[1;33m\u001b[0m\u001b[1;33m\u001b[0m\u001b[0m\n\u001b[0m\u001b[0;32m      3\u001b[0m \u001b[1;32mfrom\u001b[0m \u001b[0mnltk\u001b[0m\u001b[1;33m.\u001b[0m\u001b[0mcorpus\u001b[0m \u001b[1;32mimport\u001b[0m \u001b[0mstopwords\u001b[0m\u001b[1;33m\u001b[0m\u001b[1;33m\u001b[0m\u001b[0m\n\u001b[0;32m      4\u001b[0m \u001b[1;32mimport\u001b[0m \u001b[0mre\u001b[0m\u001b[1;33m\u001b[0m\u001b[1;33m\u001b[0m\u001b[0m\n\u001b[0;32m      5\u001b[0m \u001b[1;33m\u001b[0m\u001b[0m\n",
      "\u001b[1;31mModuleNotFoundError\u001b[0m: No module named 'spacy'"
     ]
    }
   ],
   "source": [
    "import string\n",
    "import spacy\n",
    "from nltk.corpus import stopwords\n",
    "import re\n",
    "\n",
    "english_stopwords = stopwords.words('english')\n",
    "nlp = spacy.load('en_core_web_sm')\n",
    "punctuation = set(string.punctuation)\n",
    "\n",
    "def data_cleaner(dataset):\n",
    "    dataset_to_return = []\n",
    "    for sentence in dataset:\n",
    "        sentence = sentence.lower()\n",
    "        for c in string.punctuation:\n",
    "            sentence = sentence.replace(c, \" \")\n",
    "        document = nlp(sentence)\n",
    "        sentence = ' '.join(token.lemma_ for token in document)\n",
    "        sentence = ' '.join(word for word in sentence.split() if word not in english_stopwords)\n",
    "        sentence = re.sub('\\d', '', sentence)\n",
    "        dataset_to_return.append(sentence)\n",
    "\n",
    "    return sentence"
   ]
  },
  {
   "cell_type": "code",
   "execution_count": null,
   "id": "9fc20e59",
   "metadata": {},
   "outputs": [],
   "source": [
    "from sklearn.datasets import fetch_20newsgroups\n",
    "training_dataset = fetch_20newsgroups(subset='train')\n",
    "test_dataset = fetch_20newsgroups(subset='test')\n",
    "training_data = training_dataset['data']\n",
    "training_target = training_dataset['target']\n",
    "test_data = test_dataset['data']\n",
    "test_target = test_dataset['target']\n"
   ]
  },
  {
   "cell_type": "code",
   "execution_count": 6,
   "id": "892a0081",
   "metadata": {},
   "outputs": [
    {
     "data": {
      "text/plain": [
       "11314"
      ]
     },
     "execution_count": 6,
     "metadata": {},
     "output_type": "execute_result"
    }
   ],
   "source": [
    "len(training_data)"
   ]
  },
  {
   "cell_type": "code",
   "execution_count": 7,
   "id": "b020e9d6",
   "metadata": {},
   "outputs": [
    {
     "data": {
      "text/plain": [
       "7532"
      ]
     },
     "execution_count": 7,
     "metadata": {},
     "output_type": "execute_result"
    }
   ],
   "source": [
    "len(test_data)"
   ]
  },
  {
   "cell_type": "code",
   "execution_count": 8,
   "id": "ac95b4ce",
   "metadata": {},
   "outputs": [],
   "source": [
    "from sklearn.feature_extraction.text import TfidfVectorizer\n",
    "def bow_tfidf(dataset):\n",
    "    tfidf_vectorizer = TfidfVectorizer()\n",
    "    X = tfidf_vectorizer.fit_transform(corpus)\n",
    "    return X.toarray()"
   ]
  },
  {
   "cell_type": "code",
   "execution_count": null,
   "id": "18594b1b",
   "metadata": {},
   "outputs": [],
   "source": []
  }
 ],
 "metadata": {
  "kernelspec": {
   "display_name": "Python 3",
   "language": "python",
   "name": "python3"
  },
  "language_info": {
   "codemirror_mode": {
    "name": "ipython",
    "version": 3
   },
   "file_extension": ".py",
   "mimetype": "text/x-python",
   "name": "python",
   "nbconvert_exporter": "python",
   "pygments_lexer": "ipython3",
   "version": "3.8.8"
  }
 },
 "nbformat": 4,
 "nbformat_minor": 5
}
