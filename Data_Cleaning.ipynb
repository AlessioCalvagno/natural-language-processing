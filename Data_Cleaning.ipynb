{
 "cells": [
  {
   "cell_type": "markdown",
   "id": "89c3939e",
   "metadata": {},
   "source": [
    "### Lowercase"
   ]
  },
  {
   "cell_type": "code",
   "execution_count": null,
   "id": "d9f2ce14",
   "metadata": {},
   "outputs": [],
   "source": [
    "\"Hi, This is an example of string with lowercase and upper CASE.\".lower()"
   ]
  },
  {
   "cell_type": "code",
   "execution_count": null,
   "id": "bcc058bb",
   "metadata": {},
   "outputs": [],
   "source": [
    "\"Hi, This is an example of string with lowercase and upper CASE.\".upper()"
   ]
  },
  {
   "cell_type": "markdown",
   "id": "271e5635",
   "metadata": {},
   "source": [
    "### Rimozione della punteggiatura"
   ]
  },
  {
   "cell_type": "code",
   "execution_count": null,
   "id": "793b518a",
   "metadata": {},
   "outputs": [],
   "source": [
    "import string\n",
    "sentence = \"Hi, I started studying natural language processing with this beautiful course offered by ProfessionAI.\"\n",
    "for c in string.punctuation:\n",
    "    sentence = sentence.replace(c, \" \")\n",
    "print(sentence)"
   ]
  },
  {
   "cell_type": "markdown",
   "id": "80ed9b4f",
   "metadata": {},
   "source": [
    "### STEMMING"
   ]
  },
  {
   "cell_type": "code",
   "execution_count": null,
   "id": "19f39a63",
   "metadata": {},
   "outputs": [],
   "source": [
    "from nltk.stem import PorterStemmer"
   ]
  },
  {
   "cell_type": "code",
   "execution_count": null,
   "id": "3779cec8",
   "metadata": {},
   "outputs": [],
   "source": [
    "ps = PorterStemmer()\n",
    "word = (\"civilization\")\n",
    "ps.stem(word)"
   ]
  },
  {
   "cell_type": "code",
   "execution_count": null,
   "id": "fe5e084d",
   "metadata": {},
   "outputs": [],
   "source": [
    "sentence = \"I started studying natural language processing with this beautiful course offered by ProfessionAI.\"\n",
    "stemmed_sentence = ' '.join(ps.stem(word) for word in sentence.split())\n",
    "stemmed_sentence"
   ]
  },
  {
   "cell_type": "markdown",
   "id": "b9df027b",
   "metadata": {},
   "source": [
    "### Lemmatization"
   ]
  },
  {
   "cell_type": "code",
   "execution_count": null,
   "id": "a9ce7d7e",
   "metadata": {},
   "outputs": [],
   "source": [
    "import spacy\n",
    "!python -m spacy download en_core_web_sm"
   ]
  },
  {
   "cell_type": "code",
   "execution_count": null,
   "id": "ca01596c",
   "metadata": {},
   "outputs": [],
   "source": [
    "nlp = spacy.load('en_core_web_sm')\n",
    "sentence = \"I started studying natural language processing with this beautiful course offered by ProfessionAI.\"\n",
    "doc = nlp(sentence)\n",
    "for token in doc:\n",
    "    print(token.text, token.lemma_)"
   ]
  },
  {
   "cell_type": "markdown",
   "id": "51c58f08",
   "metadata": {},
   "source": [
    "### Rimozione stopwords"
   ]
  },
  {
   "cell_type": "code",
   "execution_count": null,
   "id": "5254ae9a",
   "metadata": {},
   "outputs": [],
   "source": [
    "from nltk.corpus import stopwords\n",
    "english_stopwords = stopwords.words('english')"
   ]
  },
  {
   "cell_type": "code",
   "execution_count": null,
   "id": "f775eb90",
   "metadata": {},
   "outputs": [],
   "source": [
    "english_stopwords"
   ]
  },
  {
   "cell_type": "code",
   "execution_count": null,
   "id": "3862190e",
   "metadata": {},
   "outputs": [],
   "source": [
    "sentence = \"I started studying natural language processing with this beautiful course offered by ProfessionAI.\"\n",
    "sentence_no_stopwords = \" \".join(word for word in sentence.split() if word not in english_stopwords)"
   ]
  },
  {
   "cell_type": "code",
   "execution_count": null,
   "id": "78e65c62",
   "metadata": {},
   "outputs": [],
   "source": [
    "sentence_no_stopwords"
   ]
  },
  {
   "cell_type": "markdown",
   "id": "32770196",
   "metadata": {},
   "source": [
    "## Rimozione dei numeri"
   ]
  },
  {
   "cell_type": "code",
   "execution_count": null,
   "id": "a6758953",
   "metadata": {},
   "outputs": [],
   "source": [
    "import re\n",
    "s = \"In this sentence there are 3 numbers, 2 and 1234\"\n",
    "print(re.sub('\\d', '', s))"
   ]
  },
  {
   "cell_type": "markdown",
   "id": "cbc781e7",
   "metadata": {},
   "source": [
    "### Tokenization"
   ]
  },
  {
   "cell_type": "code",
   "execution_count": null,
   "id": "f54922bf",
   "metadata": {},
   "outputs": [],
   "source": [
    "sentence = \"I started studying natural language processing with this beautiful course offered by ProfessionAI.\"\n",
    "tokenized_sentence = sentence.split()\n",
    "tokenized_sentence"
   ]
  },
  {
   "cell_type": "markdown",
   "id": "d4b3e0dc",
   "metadata": {},
   "source": [
    "## Creiamo la funzione che pulisce il testo"
   ]
  },
  {
   "cell_type": "code",
   "execution_count": null,
   "id": "febe8f02",
   "metadata": {},
   "outputs": [],
   "source": [
    "import string\n",
    "import spacy\n",
    "from nltk.corpus import stopwords\n",
    "import re\n",
    "\n",
    "english_stopwords = stopwords.words('english')\n",
    "nlp = spacy.load('en_core_web_sm')\n",
    "punctuation = set(string.punctuation)\n",
    "\n",
    "def data_cleaner(sentence):\n",
    "    sentence = sentence.lower()\n",
    "    for c in string.punctuation:\n",
    "        sentence = sentence.replace(c, \" \")\n",
    "    document = nlp(sentence)\n",
    "    sentence = ' '.join(token.lemma_ for token in document)\n",
    "    sentence = ' '.join(word for word in sentence.split() if word not in english_stopwords)\n",
    "    sentence = re.sub('\\d', '', sentence)\n",
    "    \n",
    "    return sentence"
   ]
  },
  {
   "cell_type": "code",
   "execution_count": null,
   "id": "6fd4831f",
   "metadata": {},
   "outputs": [],
   "source": [
    "data_cleaner('Hi, this is a phrase used to test our data cleaning method!')"
   ]
  },
  {
   "cell_type": "markdown",
   "id": "39501c15",
   "metadata": {},
   "source": [
    "# Importiamo il dataset\n",
    "##### Per testare le funzioni appena descritte, importiamo il dataset 20newsgroups, un dataset che è possibile scaricare utilizzando la libreria scikit-learn."
   ]
  },
  {
   "cell_type": "code",
   "execution_count": null,
   "id": "5a1c7993",
   "metadata": {},
   "outputs": [],
   "source": [
    "from sklearn.datasets import fetch_20newsgroups\n",
    "newsgroups_train = fetch_20newsgroups(subset='train')"
   ]
  },
  {
   "cell_type": "code",
   "execution_count": null,
   "id": "599b91c9",
   "metadata": {},
   "outputs": [],
   "source": [
    "newsgroups_train.keys()"
   ]
  },
  {
   "cell_type": "code",
   "execution_count": null,
   "id": "a34151af",
   "metadata": {},
   "outputs": [],
   "source": [
    "dataset = newsgroups_train['data']\n",
    "target = newsgroups_train['target']"
   ]
  },
  {
   "cell_type": "code",
   "execution_count": null,
   "id": "8fe1de53",
   "metadata": {},
   "outputs": [],
   "source": [
    "dataset"
   ]
  },
  {
   "cell_type": "code",
   "execution_count": null,
   "id": "9484d86a",
   "metadata": {},
   "outputs": [],
   "source": [
    "target"
   ]
  },
  {
   "cell_type": "code",
   "execution_count": null,
   "id": "1cda9cc0",
   "metadata": {},
   "outputs": [],
   "source": [
    "len(dataset)"
   ]
  },
  {
   "cell_type": "code",
   "execution_count": null,
   "id": "522159e2",
   "metadata": {},
   "outputs": [],
   "source": [
    "len(target)"
   ]
  },
  {
   "cell_type": "code",
   "execution_count": null,
   "id": "769f74ae",
   "metadata": {},
   "outputs": [],
   "source": [
    "cleaned_dataset = [data_cleaner(doc) for doc in dataset]"
   ]
  },
  {
   "cell_type": "code",
   "execution_count": null,
   "id": "b730a4e0",
   "metadata": {},
   "outputs": [],
   "source": [
    "len(cleaned_dataset)"
   ]
  },
  {
   "cell_type": "code",
   "execution_count": null,
   "id": "36d761a6",
   "metadata": {},
   "outputs": [],
   "source": [
    "cleaned_dataset[0]"
   ]
  },
  {
   "cell_type": "code",
   "execution_count": null,
   "id": "69dd5f99",
   "metadata": {},
   "outputs": [],
   "source": [
    "dataset[0]"
   ]
  },
  {
   "cell_type": "code",
   "execution_count": null,
   "id": "594be8f2",
   "metadata": {},
   "outputs": [],
   "source": [
    "import pandas as pd\n",
    "pd.DataFrame({'data':cleaned_dataset,'target':target}).to_csv('datasets/Lezione_1-data_cleaning/dataset.csv',index=False)"
   ]
  },
  {
   "cell_type": "code",
   "execution_count": null,
   "id": "9f736825",
   "metadata": {},
   "outputs": [],
   "source": []
  }
 ],
 "metadata": {
  "kernelspec": {
   "display_name": "Python 3",
   "language": "python",
   "name": "python3"
  },
  "language_info": {
   "codemirror_mode": {
    "name": "ipython",
    "version": 3
   },
   "file_extension": ".py",
   "mimetype": "text/x-python",
   "name": "python",
   "nbconvert_exporter": "python",
   "pygments_lexer": "ipython3",
   "version": "3.8.8"
  }
 },
 "nbformat": 4,
 "nbformat_minor": 5
}
