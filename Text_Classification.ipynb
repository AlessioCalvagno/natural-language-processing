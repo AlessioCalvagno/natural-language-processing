{
 "cells": [
  {
   "cell_type": "markdown",
   "id": "c9cdaa69",
   "metadata": {},
   "source": [
    "# Text Classification"
   ]
  },
  {
   "cell_type": "code",
   "execution_count": 50,
   "id": "65153437",
   "metadata": {},
   "outputs": [],
   "source": [
    "import pandas\n",
    "from sklearn.datasets import fetch_20newsgroups\n",
    "training_dataset = fetch_20newsgroups(subset='train')\n",
    "test_dataset = fetch_20newsgroups(subset='test')\n",
    "training_data = training_dataset['data']\n",
    "training_target = training_dataset['target']\n",
    "test_data = test_dataset['data']\n",
    "test_target = test_dataset['target']\n",
    "target_names = training_dataset['target_names']"
   ]
  },
  {
   "cell_type": "code",
   "execution_count": 51,
   "id": "cccf38aa",
   "metadata": {},
   "outputs": [],
   "source": [
    "dataset_training = pandas.DataFrame(\n",
    "    {'data':list(training_dataset['data']), \n",
    "     'target': list(training_dataset['target'])\n",
    "    })\n",
    "\n",
    "dataset_testing = pandas.DataFrame(\n",
    "    {'data':list(test_dataset['data']), \n",
    "     'target': list(test_dataset['target'])\n",
    "    })"
   ]
  },
  {
   "cell_type": "code",
   "execution_count": 52,
   "id": "df657310",
   "metadata": {},
   "outputs": [
    {
     "data": {
      "text/html": [
       "<div>\n",
       "<style scoped>\n",
       "    .dataframe tbody tr th:only-of-type {\n",
       "        vertical-align: middle;\n",
       "    }\n",
       "\n",
       "    .dataframe tbody tr th {\n",
       "        vertical-align: top;\n",
       "    }\n",
       "\n",
       "    .dataframe thead th {\n",
       "        text-align: right;\n",
       "    }\n",
       "</style>\n",
       "<table border=\"1\" class=\"dataframe\">\n",
       "  <thead>\n",
       "    <tr style=\"text-align: right;\">\n",
       "      <th></th>\n",
       "      <th>data</th>\n",
       "      <th>target</th>\n",
       "    </tr>\n",
       "  </thead>\n",
       "  <tbody>\n",
       "    <tr>\n",
       "      <th>0</th>\n",
       "      <td>From: lerxst@wam.umd.edu (where's my thing)\\nS...</td>\n",
       "      <td>7</td>\n",
       "    </tr>\n",
       "    <tr>\n",
       "      <th>1</th>\n",
       "      <td>From: guykuo@carson.u.washington.edu (Guy Kuo)...</td>\n",
       "      <td>4</td>\n",
       "    </tr>\n",
       "    <tr>\n",
       "      <th>2</th>\n",
       "      <td>From: twillis@ec.ecn.purdue.edu (Thomas E Will...</td>\n",
       "      <td>4</td>\n",
       "    </tr>\n",
       "    <tr>\n",
       "      <th>3</th>\n",
       "      <td>From: jgreen@amber (Joe Green)\\nSubject: Re: W...</td>\n",
       "      <td>1</td>\n",
       "    </tr>\n",
       "    <tr>\n",
       "      <th>4</th>\n",
       "      <td>From: jcm@head-cfa.harvard.edu (Jonathan McDow...</td>\n",
       "      <td>14</td>\n",
       "    </tr>\n",
       "    <tr>\n",
       "      <th>...</th>\n",
       "      <td>...</td>\n",
       "      <td>...</td>\n",
       "    </tr>\n",
       "    <tr>\n",
       "      <th>11309</th>\n",
       "      <td>From: jim.zisfein@factory.com (Jim Zisfein) \\n...</td>\n",
       "      <td>13</td>\n",
       "    </tr>\n",
       "    <tr>\n",
       "      <th>11310</th>\n",
       "      <td>From: ebodin@pearl.tufts.edu\\nSubject: Screen ...</td>\n",
       "      <td>4</td>\n",
       "    </tr>\n",
       "    <tr>\n",
       "      <th>11311</th>\n",
       "      <td>From: westes@netcom.com (Will Estes)\\nSubject:...</td>\n",
       "      <td>3</td>\n",
       "    </tr>\n",
       "    <tr>\n",
       "      <th>11312</th>\n",
       "      <td>From: steve@hcrlgw (Steven Collins)\\nSubject: ...</td>\n",
       "      <td>1</td>\n",
       "    </tr>\n",
       "    <tr>\n",
       "      <th>11313</th>\n",
       "      <td>From: gunning@cco.caltech.edu (Kevin J. Gunnin...</td>\n",
       "      <td>8</td>\n",
       "    </tr>\n",
       "  </tbody>\n",
       "</table>\n",
       "<p>11314 rows × 2 columns</p>\n",
       "</div>"
      ],
      "text/plain": [
       "                                                    data  target\n",
       "0      From: lerxst@wam.umd.edu (where's my thing)\\nS...       7\n",
       "1      From: guykuo@carson.u.washington.edu (Guy Kuo)...       4\n",
       "2      From: twillis@ec.ecn.purdue.edu (Thomas E Will...       4\n",
       "3      From: jgreen@amber (Joe Green)\\nSubject: Re: W...       1\n",
       "4      From: jcm@head-cfa.harvard.edu (Jonathan McDow...      14\n",
       "...                                                  ...     ...\n",
       "11309  From: jim.zisfein@factory.com (Jim Zisfein) \\n...      13\n",
       "11310  From: ebodin@pearl.tufts.edu\\nSubject: Screen ...       4\n",
       "11311  From: westes@netcom.com (Will Estes)\\nSubject:...       3\n",
       "11312  From: steve@hcrlgw (Steven Collins)\\nSubject: ...       1\n",
       "11313  From: gunning@cco.caltech.edu (Kevin J. Gunnin...       8\n",
       "\n",
       "[11314 rows x 2 columns]"
      ]
     },
     "execution_count": 52,
     "metadata": {},
     "output_type": "execute_result"
    }
   ],
   "source": [
    "dataset_training"
   ]
  },
  {
   "cell_type": "code",
   "execution_count": 53,
   "id": "ce0d0bb7",
   "metadata": {},
   "outputs": [
    {
     "data": {
      "text/html": [
       "<div>\n",
       "<style scoped>\n",
       "    .dataframe tbody tr th:only-of-type {\n",
       "        vertical-align: middle;\n",
       "    }\n",
       "\n",
       "    .dataframe tbody tr th {\n",
       "        vertical-align: top;\n",
       "    }\n",
       "\n",
       "    .dataframe thead th {\n",
       "        text-align: right;\n",
       "    }\n",
       "</style>\n",
       "<table border=\"1\" class=\"dataframe\">\n",
       "  <thead>\n",
       "    <tr style=\"text-align: right;\">\n",
       "      <th></th>\n",
       "      <th>data</th>\n",
       "      <th>target</th>\n",
       "    </tr>\n",
       "  </thead>\n",
       "  <tbody>\n",
       "    <tr>\n",
       "      <th>0</th>\n",
       "      <td>From: v064mb9k@ubvmsd.cc.buffalo.edu (NEIL B. ...</td>\n",
       "      <td>7</td>\n",
       "    </tr>\n",
       "    <tr>\n",
       "      <th>1</th>\n",
       "      <td>From: Rick Miller &lt;rick@ee.uwm.edu&gt;\\nSubject: ...</td>\n",
       "      <td>5</td>\n",
       "    </tr>\n",
       "    <tr>\n",
       "      <th>2</th>\n",
       "      <td>From: mathew &lt;mathew@mantis.co.uk&gt;\\nSubject: R...</td>\n",
       "      <td>0</td>\n",
       "    </tr>\n",
       "    <tr>\n",
       "      <th>3</th>\n",
       "      <td>From: bakken@cs.arizona.edu (Dave Bakken)\\nSub...</td>\n",
       "      <td>17</td>\n",
       "    </tr>\n",
       "    <tr>\n",
       "      <th>4</th>\n",
       "      <td>From: livesey@solntze.wpd.sgi.com (Jon Livesey...</td>\n",
       "      <td>19</td>\n",
       "    </tr>\n",
       "    <tr>\n",
       "      <th>...</th>\n",
       "      <td>...</td>\n",
       "      <td>...</td>\n",
       "    </tr>\n",
       "    <tr>\n",
       "      <th>7527</th>\n",
       "      <td>From: richmond@spiff.Princeton.EDU (Stupendous...</td>\n",
       "      <td>14</td>\n",
       "    </tr>\n",
       "    <tr>\n",
       "      <th>7528</th>\n",
       "      <td>From: smytonj@murr11.alleg.edu (Jim Smyton)\\nS...</td>\n",
       "      <td>4</td>\n",
       "    </tr>\n",
       "    <tr>\n",
       "      <th>7529</th>\n",
       "      <td>From: hhenderson@vax.clarku.edu\\nSubject: RE: ...</td>\n",
       "      <td>9</td>\n",
       "    </tr>\n",
       "    <tr>\n",
       "      <th>7530</th>\n",
       "      <td>From: b859zam@utarlg.uta.edu \\nSubject: INTEL ...</td>\n",
       "      <td>6</td>\n",
       "    </tr>\n",
       "    <tr>\n",
       "      <th>7531</th>\n",
       "      <td>From: adamsj@gtewd.mtv.gtegsc.com\\nSubject: Re...</td>\n",
       "      <td>15</td>\n",
       "    </tr>\n",
       "  </tbody>\n",
       "</table>\n",
       "<p>7532 rows × 2 columns</p>\n",
       "</div>"
      ],
      "text/plain": [
       "                                                   data  target\n",
       "0     From: v064mb9k@ubvmsd.cc.buffalo.edu (NEIL B. ...       7\n",
       "1     From: Rick Miller <rick@ee.uwm.edu>\\nSubject: ...       5\n",
       "2     From: mathew <mathew@mantis.co.uk>\\nSubject: R...       0\n",
       "3     From: bakken@cs.arizona.edu (Dave Bakken)\\nSub...      17\n",
       "4     From: livesey@solntze.wpd.sgi.com (Jon Livesey...      19\n",
       "...                                                 ...     ...\n",
       "7527  From: richmond@spiff.Princeton.EDU (Stupendous...      14\n",
       "7528  From: smytonj@murr11.alleg.edu (Jim Smyton)\\nS...       4\n",
       "7529  From: hhenderson@vax.clarku.edu\\nSubject: RE: ...       9\n",
       "7530  From: b859zam@utarlg.uta.edu \\nSubject: INTEL ...       6\n",
       "7531  From: adamsj@gtewd.mtv.gtegsc.com\\nSubject: Re...      15\n",
       "\n",
       "[7532 rows x 2 columns]"
      ]
     },
     "execution_count": 53,
     "metadata": {},
     "output_type": "execute_result"
    }
   ],
   "source": [
    "dataset_testing"
   ]
  },
  {
   "cell_type": "code",
   "execution_count": 54,
   "id": "a2ab0360",
   "metadata": {},
   "outputs": [
    {
     "data": {
      "text/plain": [
       "['alt.atheism',\n",
       " 'comp.graphics',\n",
       " 'comp.os.ms-windows.misc',\n",
       " 'comp.sys.ibm.pc.hardware',\n",
       " 'comp.sys.mac.hardware',\n",
       " 'comp.windows.x',\n",
       " 'misc.forsale',\n",
       " 'rec.autos',\n",
       " 'rec.motorcycles',\n",
       " 'rec.sport.baseball',\n",
       " 'rec.sport.hockey',\n",
       " 'sci.crypt',\n",
       " 'sci.electronics',\n",
       " 'sci.med',\n",
       " 'sci.space',\n",
       " 'soc.religion.christian',\n",
       " 'talk.politics.guns',\n",
       " 'talk.politics.mideast',\n",
       " 'talk.politics.misc',\n",
       " 'talk.religion.misc']"
      ]
     },
     "execution_count": 54,
     "metadata": {},
     "output_type": "execute_result"
    }
   ],
   "source": [
    "#Visualizziamo le classi del dataset \n",
    "target_names"
   ]
  },
  {
   "cell_type": "code",
   "execution_count": 56,
   "id": "c5c0e0bb",
   "metadata": {},
   "outputs": [],
   "source": [
    "#Filtro il dataset per costruirmi un minidataset di esempio usando le categorie 3 e 4 (Ibm e MAC). \n",
    "dataset_training = dataset_training[dataset_training['target'].isin([3,4])]\n",
    "dataset_testing = dataset_testing[dataset_testing['target'].isin([3,4])]"
   ]
  },
  {
   "cell_type": "code",
   "execution_count": 63,
   "id": "cd62031c",
   "metadata": {},
   "outputs": [
    {
     "data": {
      "text/plain": [
       "1168"
      ]
     },
     "execution_count": 63,
     "metadata": {},
     "output_type": "execute_result"
    }
   ],
   "source": [
    "#Facciamo un pò di EDA sul dataset creato\n",
    "len(dataset_training)"
   ]
  },
  {
   "cell_type": "code",
   "execution_count": 64,
   "id": "8814d297",
   "metadata": {},
   "outputs": [
    {
     "data": {
      "text/plain": [
       "590"
      ]
     },
     "execution_count": 64,
     "metadata": {},
     "output_type": "execute_result"
    }
   ],
   "source": [
    "len(dataset_training[dataset_training['target'] == 3])"
   ]
  },
  {
   "cell_type": "code",
   "execution_count": 58,
   "id": "6334e76a",
   "metadata": {},
   "outputs": [
    {
     "data": {
      "text/plain": [
       "578"
      ]
     },
     "execution_count": 58,
     "metadata": {},
     "output_type": "execute_result"
    }
   ],
   "source": [
    "len(dataset_training[dataset_training['target'] == 4])"
   ]
  },
  {
   "cell_type": "code",
   "execution_count": 65,
   "id": "7b1bdaa4",
   "metadata": {},
   "outputs": [
    {
     "data": {
      "text/plain": [
       "777"
      ]
     },
     "execution_count": 65,
     "metadata": {},
     "output_type": "execute_result"
    }
   ],
   "source": [
    "len(dataset_testing)"
   ]
  },
  {
   "cell_type": "code",
   "execution_count": 59,
   "id": "842876c7",
   "metadata": {},
   "outputs": [
    {
     "data": {
      "text/plain": [
       "392"
      ]
     },
     "execution_count": 59,
     "metadata": {},
     "output_type": "execute_result"
    }
   ],
   "source": [
    "len(dataset_testing[dataset_testing['target'] == 3])"
   ]
  },
  {
   "cell_type": "code",
   "execution_count": 60,
   "id": "70b181d6",
   "metadata": {},
   "outputs": [
    {
     "data": {
      "text/plain": [
       "385"
      ]
     },
     "execution_count": 60,
     "metadata": {},
     "output_type": "execute_result"
    }
   ],
   "source": [
    "len(dataset_testing[dataset_testing['target'] == 4])"
   ]
  },
  {
   "cell_type": "code",
   "execution_count": 61,
   "id": "56407ca3",
   "metadata": {},
   "outputs": [],
   "source": [
    "fi"
   ]
  },
  {
   "cell_type": "code",
   "execution_count": 62,
   "id": "e98f9ff8",
   "metadata": {},
   "outputs": [],
   "source": [
    "#puliamo i dataset di training e di test\n",
    "training_data_cleaned, tfidf_vectorizer = bow_tfidf(data_cleaner(dataset_training['data']), None)"
   ]
  },
  {
   "cell_type": "code",
   "execution_count": 34,
   "id": "9ad590c6",
   "metadata": {},
   "outputs": [
    {
     "data": {
      "text/plain": [
       "1168"
      ]
     },
     "execution_count": 34,
     "metadata": {},
     "output_type": "execute_result"
    }
   ],
   "source": [
    "training_data_cleaned"
   ]
  },
  {
   "cell_type": "code",
   "execution_count": 69,
   "id": "881793ac",
   "metadata": {},
   "outputs": [],
   "source": [
    "testing_data_cleaned, tfidf_vectorizer = bow_tfidf(data_cleaner(dataset_testing['data']), tfidf_vectorizer)"
   ]
  },
  {
   "cell_type": "code",
   "execution_count": 67,
   "id": "36f47e1b",
   "metadata": {},
   "outputs": [
    {
     "name": "stdout",
     "output_type": "stream",
     "text": [
      "Iteration 1, loss = 0.70019679\n",
      "Iteration 2, loss = 0.68026401\n",
      "Iteration 3, loss = 0.67105660\n",
      "Iteration 4, loss = 0.66078195\n",
      "Iteration 5, loss = 0.65025430\n",
      "Iteration 6, loss = 0.63965716\n",
      "Iteration 7, loss = 0.62901592\n",
      "Iteration 8, loss = 0.61767249\n",
      "Iteration 9, loss = 0.60572652\n",
      "Iteration 10, loss = 0.59307181\n",
      "Iteration 11, loss = 0.57947266\n",
      "Iteration 12, loss = 0.56497275\n",
      "Iteration 13, loss = 0.54963676\n",
      "Iteration 14, loss = 0.53309710\n",
      "Iteration 15, loss = 0.51603203\n",
      "Iteration 16, loss = 0.49756239\n",
      "Iteration 17, loss = 0.47875940\n",
      "Iteration 18, loss = 0.45974243\n",
      "Iteration 19, loss = 0.43964621\n",
      "Iteration 20, loss = 0.41947523\n",
      "Iteration 21, loss = 0.39926201\n",
      "Iteration 22, loss = 0.37915222\n",
      "Iteration 23, loss = 0.35947224\n",
      "Iteration 24, loss = 0.33994807\n",
      "Iteration 25, loss = 0.32126868\n",
      "Iteration 26, loss = 0.30299677\n",
      "Iteration 27, loss = 0.28569367\n",
      "Iteration 28, loss = 0.26907751\n",
      "Iteration 29, loss = 0.25322486\n",
      "Iteration 30, loss = 0.23838768\n",
      "Iteration 31, loss = 0.22437398\n",
      "Iteration 32, loss = 0.21120012\n",
      "Iteration 33, loss = 0.19888352\n",
      "Iteration 34, loss = 0.18741098\n",
      "Iteration 35, loss = 0.17669636\n",
      "Iteration 36, loss = 0.16668971\n",
      "Iteration 37, loss = 0.15748194\n",
      "Iteration 38, loss = 0.14874534\n",
      "Iteration 39, loss = 0.14068295\n",
      "Iteration 40, loss = 0.13325419\n",
      "Iteration 41, loss = 0.12628497\n",
      "Iteration 42, loss = 0.11979194\n",
      "Iteration 43, loss = 0.11379824\n",
      "Iteration 44, loss = 0.10816960\n",
      "Iteration 45, loss = 0.10293965\n",
      "Iteration 46, loss = 0.09805265\n",
      "Iteration 47, loss = 0.09351853\n",
      "Iteration 48, loss = 0.08931076\n",
      "Iteration 49, loss = 0.08534353\n",
      "Iteration 50, loss = 0.08164484\n",
      "Iteration 51, loss = 0.07815489\n",
      "Iteration 52, loss = 0.07492675\n",
      "Iteration 53, loss = 0.07188673\n",
      "Iteration 54, loss = 0.06903465\n",
      "Iteration 55, loss = 0.06634415\n",
      "Iteration 56, loss = 0.06385854\n",
      "Training loss did not improve more than tol=0.005000 for 10 consecutive epochs. Stopping.\n"
     ]
    },
    {
     "data": {
      "text/plain": [
       "MLPClassifier(activation='logistic', max_iter=100, tol=0.005, verbose=True)"
      ]
     },
     "execution_count": 67,
     "metadata": {},
     "output_type": "execute_result"
    }
   ],
   "source": [
    "#Importiamo il MLP dalla libreria \n",
    "\n",
    "from sklearn.neural_network import MLPClassifier\n",
    "\n",
    "clf = MLPClassifier(activation='logistic',\n",
    "                    hidden_layer_sizes=(100,),\n",
    "                    max_iter=100,\n",
    "                    solver='adam',\n",
    "                    tol=0.005,\n",
    "                    verbose=True)\n",
    "\n",
    "clf.fit(training_data_cleaned,dataset_training['target'])"
   ]
  },
  {
   "cell_type": "code",
   "execution_count": 70,
   "id": "918e7c13",
   "metadata": {},
   "outputs": [
    {
     "data": {
      "text/plain": [
       "0.8854568854568855"
      ]
     },
     "execution_count": 70,
     "metadata": {},
     "output_type": "execute_result"
    }
   ],
   "source": [
    "#TESTIAMO IL MODELLO ADDESTRATO\n",
    "clf.score(testing_data_cleaned, dataset_testing['target'])"
   ]
  },
  {
   "cell_type": "code",
   "execution_count": 75,
   "id": "a3c6db42",
   "metadata": {},
   "outputs": [],
   "source": [
    "target = clf.predict(bow_tfidf(data_cleaner([\"IBM is one of the bigger company in the world!\"]),tfidf_vectorizer)[0])[0]"
   ]
  },
  {
   "cell_type": "code",
   "execution_count": 78,
   "id": "79af43e4",
   "metadata": {},
   "outputs": [
    {
     "data": {
      "text/plain": [
       "3"
      ]
     },
     "execution_count": 78,
     "metadata": {},
     "output_type": "execute_result"
    }
   ],
   "source": [
    "target"
   ]
  },
  {
   "cell_type": "code",
   "execution_count": 79,
   "id": "21c9da91",
   "metadata": {},
   "outputs": [
    {
     "data": {
      "text/plain": [
       "'comp.sys.ibm.pc.hardware'"
      ]
     },
     "execution_count": 79,
     "metadata": {},
     "output_type": "execute_result"
    }
   ],
   "source": [
    "target_names[target]"
   ]
  },
  {
   "cell_type": "code",
   "execution_count": null,
   "id": "7e26913c",
   "metadata": {},
   "outputs": [],
   "source": []
  }
 ],
 "metadata": {
  "kernelspec": {
   "display_name": "Python 3 (ipykernel)",
   "language": "python",
   "name": "python3"
  },
  "language_info": {
   "codemirror_mode": {
    "name": "ipython",
    "version": 3
   },
   "file_extension": ".py",
   "mimetype": "text/x-python",
   "name": "python",
   "nbconvert_exporter": "python",
   "pygments_lexer": "ipython3",
   "version": "3.8.12"
  }
 },
 "nbformat": 4,
 "nbformat_minor": 5
}
