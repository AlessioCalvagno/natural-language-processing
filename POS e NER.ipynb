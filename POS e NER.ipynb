{
 "cells": [
  {
   "cell_type": "markdown",
   "id": "2f057fbd",
   "metadata": {},
   "source": [
    "## POS"
   ]
  },
  {
   "cell_type": "code",
   "execution_count": 1,
   "id": "710a563c",
   "metadata": {},
   "outputs": [],
   "source": [
    "import spacy\n",
    "nlp = spacy.load('en_core_web_sm')"
   ]
  },
  {
   "cell_type": "code",
   "execution_count": 2,
   "id": "b74b9583",
   "metadata": {},
   "outputs": [],
   "source": [
    "sentence = \"This is a first sentence for our example\""
   ]
  },
  {
   "cell_type": "code",
   "execution_count": 3,
   "id": "f3ebdc53",
   "metadata": {},
   "outputs": [],
   "source": [
    "doc = nlp(sentence)"
   ]
  },
  {
   "cell_type": "code",
   "execution_count": 4,
   "id": "ed9496d4",
   "metadata": {},
   "outputs": [
    {
     "name": "stdout",
     "output_type": "stream",
     "text": [
      "This : PRON\n",
      "is : AUX\n",
      "a : DET\n",
      "first : ADJ\n",
      "sentence : NOUN\n",
      "for : ADP\n",
      "our : PRON\n",
      "example : NOUN\n"
     ]
    }
   ],
   "source": [
    "for token in doc:\n",
    "    print(str(token) + \" : \"+ token.pos_)"
   ]
  },
  {
   "cell_type": "code",
   "execution_count": 5,
   "id": "3bdce50a",
   "metadata": {},
   "outputs": [
    {
     "name": "stdout",
     "output_type": "stream",
     "text": [
      "NETHIC : NOUN\n",
      ": : PUNCT\n",
      "A : DET\n",
      "system : NOUN\n",
      "for : ADP\n",
      "automatic : ADJ\n",
      "text : NOUN\n",
      "classification : NOUN\n",
      "using : VERB\n",
      "neural : ADJ\n",
      "networks : NOUN\n",
      "and : CCONJ\n",
      "hierarchical : ADJ\n",
      "taxonomies : NOUN\n",
      ". : PUNCT\n",
      "This : DET\n",
      "paper : NOUN\n",
      "presents : VERB\n",
      "NETHIC : NOUN\n",
      ", : PUNCT\n",
      "a : DET\n",
      "software : NOUN\n",
      "system : NOUN\n",
      "for : ADP\n",
      "the : DET\n",
      "automatic : ADJ\n",
      "classification : NOUN\n",
      "of : ADP\n",
      "textual : ADJ\n",
      "documents : NOUN\n",
      "based : VERB\n",
      "on : ADP\n",
      "hierarchical : ADJ\n",
      "taxonomies : NOUN\n",
      "and : CCONJ\n",
      "artificial : ADJ\n",
      "neural : ADJ\n",
      "networks : NOUN\n",
      ". : PUNCT\n",
      "This : DET\n",
      "approach : NOUN\n",
      "combines : VERB\n",
      "the : DET\n",
      "advantages : NOUN\n",
      "of : ADP\n",
      "highly : ADV\n",
      "- : PUNCT\n",
      "structured : VERB\n",
      "hierarchies : NOUN\n",
      "of : ADP\n",
      "textual : ADJ\n",
      "labels : NOUN\n",
      "with : ADP\n",
      "the : DET\n",
      "versatility : NOUN\n",
      "and : CCONJ\n",
      "scalability : NOUN\n",
      "of : ADP\n",
      "neural : ADJ\n",
      "networks : NOUN\n",
      ", : PUNCT\n",
      "thus : ADV\n",
      "bringing : VERB\n",
      "about : ADP\n",
      "a : DET\n",
      "textual : ADJ\n",
      "classifier : NOUN\n",
      "that : PRON\n",
      "displays : VERB\n",
      "high : ADJ\n",
      "levels : NOUN\n",
      "of : ADP\n",
      "performance : NOUN\n",
      "in : ADP\n",
      "terms : NOUN\n",
      "of : ADP\n",
      "both : DET\n",
      "effectiveness : NOUN\n",
      "and : CCONJ\n",
      "efficiency : NOUN\n",
      ". : PUNCT\n",
      "The : DET\n",
      "system : NOUN\n",
      "has : AUX\n",
      "first : ADV\n",
      "been : AUX\n",
      "tested : VERB\n",
      "as : ADP\n",
      "a : DET\n",
      "general : ADJ\n",
      "- : PUNCT\n",
      "purpose : NOUN\n",
      "classifier : NOUN\n",
      "on : ADP\n",
      "a : DET\n",
      "generic : ADJ\n",
      "document : NOUN\n",
      "corpus : NOUN\n",
      ", : PUNCT\n",
      "and : CCONJ\n",
      "then : ADV\n",
      "applied : VERB\n",
      "to : ADP\n",
      "the : DET\n",
      "specific : ADJ\n",
      "domain : NOUN\n",
      "tackled : VERB\n",
      "by : ADP\n",
      "DANTE : PROPN\n",
      ", : PUNCT\n",
      "a : DET\n",
      "European : ADJ\n",
      "project : NOUN\n",
      "that : PRON\n",
      "is : AUX\n",
      "meant : VERB\n",
      "to : PART\n",
      "address : VERB\n",
      "criminal : ADJ\n",
      "and : CCONJ\n",
      "terrorist : NOUN\n",
      "- : PUNCT\n",
      "related : VERB\n",
      "online : ADJ\n",
      "contents : NOUN\n",
      ", : PUNCT\n",
      "showing : VERB\n",
      "consistent : ADJ\n",
      "results : NOUN\n",
      "across : ADP\n",
      "both : DET\n",
      "application : NOUN\n",
      "domains : NOUN\n",
      ". : PUNCT\n"
     ]
    }
   ],
   "source": [
    "sentence = \"NETHIC: A system for automatic text classification using neural networks and hierarchical taxonomies. This paper presents NETHIC, a software system for the automatic classification of textual documents based on hierarchical taxonomies and artificial neural networks. This approach combines the advantages of highly-structured hierarchies of textual labels with the versatility and scalability of neural networks, thus bringing about a textual classifier that displays high levels of performance in terms of both effectiveness and efficiency. The system has first been tested as a general-purpose classifier on a generic document corpus, and then applied to the specific domain tackled by DANTE, a European project that is meant to address criminal and terrorist-related online contents, showing consistent results across both application domains.\"\n",
    "doc = nlp(sentence)\n",
    "for token in doc:\n",
    "    print(str(token) + \" : \"+ token.pos_)"
   ]
  },
  {
   "cell_type": "markdown",
   "id": "17c44b05",
   "metadata": {},
   "source": [
    "## NER"
   ]
  },
  {
   "cell_type": "code",
   "execution_count": 32,
   "id": "37c5f3d3",
   "metadata": {},
   "outputs": [],
   "source": [
    "sentence = \"Amazon is one of the 3 best companies for ecommerce courses in Europe\""
   ]
  },
  {
   "cell_type": "code",
   "execution_count": 33,
   "id": "d9d8e23f",
   "metadata": {},
   "outputs": [
    {
     "name": "stdout",
     "output_type": "stream",
     "text": [
      "Amazon : ORG\n",
      "is : \n",
      "one : CARDINAL\n",
      "of : \n",
      "the : \n",
      "3 : CARDINAL\n",
      "best : \n",
      "companies : \n",
      "for : \n",
      "ecommerce : \n",
      "courses : \n",
      "in : \n",
      "Europe : LOC\n"
     ]
    }
   ],
   "source": [
    "doc = nlp(sentence)\n",
    "for token in doc:\n",
    "    print(str(token) + \" : \"+ str(token.ent_type_))"
   ]
  },
  {
   "cell_type": "code",
   "execution_count": 36,
   "id": "6bc75bc7",
   "metadata": {},
   "outputs": [
    {
     "data": {
      "text/html": [
       "<span class=\"tex2jax_ignore\"><!DOCTYPE html>\n",
       "<html lang=\"en\">\n",
       "    <head>\n",
       "        <title>displaCy</title>\n",
       "    </head>\n",
       "\n",
       "    <body style=\"font-size: 16px; font-family: -apple-system, BlinkMacSystemFont, 'Segoe UI', Helvetica, Arial, sans-serif, 'Apple Color Emoji', 'Segoe UI Emoji', 'Segoe UI Symbol'; padding: 4rem 2rem; direction: ltr\">\n",
       "<figure style=\"margin-bottom: 6rem\">\n",
       "<div class=\"entities\" style=\"line-height: 2.5; direction: ltr\">\n",
       "<mark class=\"entity\" style=\"background: #7aecec; padding: 0.45em 0.6em; margin: 0 0.25em; line-height: 1; border-radius: 0.35em;\">\n",
       "    Amazon\n",
       "    <span style=\"font-size: 0.8em; font-weight: bold; line-height: 1; border-radius: 0.35em; vertical-align: middle; margin-left: 0.5rem\">ORG</span>\n",
       "</mark>\n",
       " is \n",
       "<mark class=\"entity\" style=\"background: #e4e7d2; padding: 0.45em 0.6em; margin: 0 0.25em; line-height: 1; border-radius: 0.35em;\">\n",
       "    one\n",
       "    <span style=\"font-size: 0.8em; font-weight: bold; line-height: 1; border-radius: 0.35em; vertical-align: middle; margin-left: 0.5rem\">CARDINAL</span>\n",
       "</mark>\n",
       " of the \n",
       "<mark class=\"entity\" style=\"background: #e4e7d2; padding: 0.45em 0.6em; margin: 0 0.25em; line-height: 1; border-radius: 0.35em;\">\n",
       "    3\n",
       "    <span style=\"font-size: 0.8em; font-weight: bold; line-height: 1; border-radius: 0.35em; vertical-align: middle; margin-left: 0.5rem\">CARDINAL</span>\n",
       "</mark>\n",
       " best companies for ecommerce courses in \n",
       "<mark class=\"entity\" style=\"background: #ff9561; padding: 0.45em 0.6em; margin: 0 0.25em; line-height: 1; border-radius: 0.35em;\">\n",
       "    Europe\n",
       "    <span style=\"font-size: 0.8em; font-weight: bold; line-height: 1; border-radius: 0.35em; vertical-align: middle; margin-left: 0.5rem\">LOC</span>\n",
       "</mark>\n",
       "</div>\n",
       "</figure>\n",
       "</body>\n",
       "</html></span>"
      ],
      "text/plain": [
       "<IPython.core.display.HTML object>"
      ]
     },
     "metadata": {},
     "output_type": "display_data"
    },
    {
     "name": "stdout",
     "output_type": "stream",
     "text": [
      "\n",
      "Using the 'ent' visualizer\n",
      "Serving on http://0.0.0.0:5000 ...\n",
      "\n",
      "Shutting down server on port 5000.\n"
     ]
    }
   ],
   "source": [
    "import spacy.displacy as displacy\n",
    "displacy.serve(doc,style=\"ent\")\n"
   ]
  },
  {
   "cell_type": "code",
   "execution_count": 37,
   "id": "12b92e24",
   "metadata": {},
   "outputs": [],
   "source": [
    "sentence = \"The White House is the official residence and workplace of the president of the United States. It is located at 1600 Pennsylvania Avenue NW in Washington, D.C., and has been the residence of every U.S. president since John Adams in 1800. The term White House is often used as a metonym for the president and his advisers. \""
   ]
  },
  {
   "cell_type": "code",
   "execution_count": 38,
   "id": "d50e54b2",
   "metadata": {},
   "outputs": [
    {
     "name": "stdout",
     "output_type": "stream",
     "text": [
      "The : ORG\n",
      "White : ORG\n",
      "House : ORG\n",
      "is : \n",
      "the : \n",
      "official : \n",
      "residence : \n",
      "and : \n",
      "workplace : \n",
      "of : \n",
      "the : \n",
      "president : \n",
      "of : \n",
      "the : GPE\n",
      "United : GPE\n",
      "States : GPE\n",
      ". : \n",
      "It : \n",
      "is : \n",
      "located : \n",
      "at : \n",
      "1600 : DATE\n",
      "Pennsylvania : FAC\n",
      "Avenue : FAC\n",
      "NW : FAC\n",
      "in : \n",
      "Washington : GPE\n",
      ", : \n",
      "D.C. : GPE\n",
      ", : \n",
      "and : \n",
      "has : \n",
      "been : \n",
      "the : \n",
      "residence : \n",
      "of : \n",
      "every : \n",
      "U.S. : GPE\n",
      "president : \n",
      "since : \n",
      "John : PERSON\n",
      "Adams : PERSON\n",
      "in : \n",
      "1800 : DATE\n",
      ". : \n",
      "The : \n",
      "term : \n",
      "White : ORG\n",
      "House : ORG\n",
      "is : \n",
      "often : \n",
      "used : \n",
      "as : \n",
      "a : \n",
      "metonym : \n",
      "for : \n",
      "the : \n",
      "president : \n",
      "and : \n",
      "his : \n",
      "advisers : \n",
      ". : \n"
     ]
    }
   ],
   "source": [
    "doc = nlp(sentence)\n",
    "for token in doc:\n",
    "    print(str(token) + \" : \"+ str(token.ent_type_))"
   ]
  },
  {
   "cell_type": "code",
   "execution_count": 39,
   "id": "1336b05c",
   "metadata": {},
   "outputs": [
    {
     "data": {
      "text/html": [
       "<span class=\"tex2jax_ignore\"><!DOCTYPE html>\n",
       "<html lang=\"en\">\n",
       "    <head>\n",
       "        <title>displaCy</title>\n",
       "    </head>\n",
       "\n",
       "    <body style=\"font-size: 16px; font-family: -apple-system, BlinkMacSystemFont, 'Segoe UI', Helvetica, Arial, sans-serif, 'Apple Color Emoji', 'Segoe UI Emoji', 'Segoe UI Symbol'; padding: 4rem 2rem; direction: ltr\">\n",
       "<figure style=\"margin-bottom: 6rem\">\n",
       "<div class=\"entities\" style=\"line-height: 2.5; direction: ltr\">\n",
       "<mark class=\"entity\" style=\"background: #7aecec; padding: 0.45em 0.6em; margin: 0 0.25em; line-height: 1; border-radius: 0.35em;\">\n",
       "    The White House\n",
       "    <span style=\"font-size: 0.8em; font-weight: bold; line-height: 1; border-radius: 0.35em; vertical-align: middle; margin-left: 0.5rem\">ORG</span>\n",
       "</mark>\n",
       " is the official residence and workplace of the president of \n",
       "<mark class=\"entity\" style=\"background: #feca74; padding: 0.45em 0.6em; margin: 0 0.25em; line-height: 1; border-radius: 0.35em;\">\n",
       "    the United States\n",
       "    <span style=\"font-size: 0.8em; font-weight: bold; line-height: 1; border-radius: 0.35em; vertical-align: middle; margin-left: 0.5rem\">GPE</span>\n",
       "</mark>\n",
       ". It is located at \n",
       "<mark class=\"entity\" style=\"background: #bfe1d9; padding: 0.45em 0.6em; margin: 0 0.25em; line-height: 1; border-radius: 0.35em;\">\n",
       "    1600\n",
       "    <span style=\"font-size: 0.8em; font-weight: bold; line-height: 1; border-radius: 0.35em; vertical-align: middle; margin-left: 0.5rem\">DATE</span>\n",
       "</mark>\n",
       " \n",
       "<mark class=\"entity\" style=\"background: #9cc9cc; padding: 0.45em 0.6em; margin: 0 0.25em; line-height: 1; border-radius: 0.35em;\">\n",
       "    Pennsylvania Avenue NW\n",
       "    <span style=\"font-size: 0.8em; font-weight: bold; line-height: 1; border-radius: 0.35em; vertical-align: middle; margin-left: 0.5rem\">FAC</span>\n",
       "</mark>\n",
       " in \n",
       "<mark class=\"entity\" style=\"background: #feca74; padding: 0.45em 0.6em; margin: 0 0.25em; line-height: 1; border-radius: 0.35em;\">\n",
       "    Washington\n",
       "    <span style=\"font-size: 0.8em; font-weight: bold; line-height: 1; border-radius: 0.35em; vertical-align: middle; margin-left: 0.5rem\">GPE</span>\n",
       "</mark>\n",
       ", \n",
       "<mark class=\"entity\" style=\"background: #feca74; padding: 0.45em 0.6em; margin: 0 0.25em; line-height: 1; border-radius: 0.35em;\">\n",
       "    D.C.\n",
       "    <span style=\"font-size: 0.8em; font-weight: bold; line-height: 1; border-radius: 0.35em; vertical-align: middle; margin-left: 0.5rem\">GPE</span>\n",
       "</mark>\n",
       ", and has been the residence of every \n",
       "<mark class=\"entity\" style=\"background: #feca74; padding: 0.45em 0.6em; margin: 0 0.25em; line-height: 1; border-radius: 0.35em;\">\n",
       "    U.S.\n",
       "    <span style=\"font-size: 0.8em; font-weight: bold; line-height: 1; border-radius: 0.35em; vertical-align: middle; margin-left: 0.5rem\">GPE</span>\n",
       "</mark>\n",
       " president since \n",
       "<mark class=\"entity\" style=\"background: #aa9cfc; padding: 0.45em 0.6em; margin: 0 0.25em; line-height: 1; border-radius: 0.35em;\">\n",
       "    John Adams\n",
       "    <span style=\"font-size: 0.8em; font-weight: bold; line-height: 1; border-radius: 0.35em; vertical-align: middle; margin-left: 0.5rem\">PERSON</span>\n",
       "</mark>\n",
       " in \n",
       "<mark class=\"entity\" style=\"background: #bfe1d9; padding: 0.45em 0.6em; margin: 0 0.25em; line-height: 1; border-radius: 0.35em;\">\n",
       "    1800\n",
       "    <span style=\"font-size: 0.8em; font-weight: bold; line-height: 1; border-radius: 0.35em; vertical-align: middle; margin-left: 0.5rem\">DATE</span>\n",
       "</mark>\n",
       ". The term \n",
       "<mark class=\"entity\" style=\"background: #7aecec; padding: 0.45em 0.6em; margin: 0 0.25em; line-height: 1; border-radius: 0.35em;\">\n",
       "    White House\n",
       "    <span style=\"font-size: 0.8em; font-weight: bold; line-height: 1; border-radius: 0.35em; vertical-align: middle; margin-left: 0.5rem\">ORG</span>\n",
       "</mark>\n",
       " is often used as a metonym for the president and his advisers. </div>\n",
       "</figure>\n",
       "</body>\n",
       "</html></span>"
      ],
      "text/plain": [
       "<IPython.core.display.HTML object>"
      ]
     },
     "metadata": {},
     "output_type": "display_data"
    },
    {
     "name": "stdout",
     "output_type": "stream",
     "text": [
      "\n",
      "Using the 'ent' visualizer\n",
      "Serving on http://0.0.0.0:5000 ...\n",
      "\n",
      "Shutting down server on port 5000.\n"
     ]
    }
   ],
   "source": [
    "displacy.serve(doc,style=\"ent\")"
   ]
  },
  {
   "cell_type": "markdown",
   "id": "d4732c8e",
   "metadata": {},
   "source": [
    "## ESERCITAZIONE\n",
    "### Utilizzando il dataset pulito 20newsgroup, prova ad estrarre per ogni documento tutte le ORGANIZZAZIONI (ORG) le date (DATE), le persone (PERSON) e i luoghi (LOC)"
   ]
  },
  {
   "cell_type": "code",
   "execution_count": null,
   "id": "8456a5ee",
   "metadata": {},
   "outputs": [],
   "source": []
  }
 ],
 "metadata": {
  "kernelspec": {
   "display_name": "Python 3 (ipykernel)",
   "language": "python",
   "name": "python3"
  },
  "language_info": {
   "codemirror_mode": {
    "name": "ipython",
    "version": 3
   },
   "file_extension": ".py",
   "mimetype": "text/x-python",
   "name": "python",
   "nbconvert_exporter": "python",
   "pygments_lexer": "ipython3",
   "version": "3.8.12"
  }
 },
 "nbformat": 4,
 "nbformat_minor": 5
}
