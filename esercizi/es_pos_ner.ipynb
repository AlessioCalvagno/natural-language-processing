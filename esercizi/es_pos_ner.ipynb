{
 "cells": [
  {
   "cell_type": "markdown",
   "metadata": {},
   "source": [
    "## ESERCITAZIONE\n",
    "### Utilizzando il dataset pulito 20newsgroup, prova ad estrarre per ogni documento tutte le ORGANIZZAZIONI (ORG) le date (DATE), le persone (PERSON) e i luoghi (LOC)"
   ]
  },
  {
   "cell_type": "code",
   "execution_count": 1,
   "metadata": {},
   "outputs": [],
   "source": [
    "import pandas as pd\n",
    "from sklearn.datasets import fetch_20newsgroups\n",
    "import re\n",
    "from nltk.corpus import stopwords\n",
    "import nltk\n",
    "import string\n",
    "import seaborn as sns\n",
    "import matplotlib.pyplot as plt\n",
    "import numpy as np\n",
    "import spacy\n",
    "\n",
    "RANDOM_SEED = 176"
   ]
  },
  {
   "cell_type": "markdown",
   "metadata": {},
   "source": [
    "## Dataset import\n",
    "\n",
    "Import all records, without train-test split"
   ]
  },
  {
   "cell_type": "code",
   "execution_count": 2,
   "metadata": {},
   "outputs": [],
   "source": [
    "X, y = fetch_20newsgroups(subset=\"all\", return_X_y=True, random_state=None)"
   ]
  },
  {
   "cell_type": "markdown",
   "metadata": {},
   "source": [
    "## Text cleaning\n",
    "Though it's not required, data cleaning is performed in order to remove punctuation and stopwords.\n",
    "\n",
    "@ and . punctuation symbols are kept in order to don't remove emails.\n",
    "\n",
    "No lowercasing to don't remove people names."
   ]
  },
  {
   "cell_type": "code",
   "execution_count": 3,
   "metadata": {},
   "outputs": [
    {
     "name": "stderr",
     "output_type": "stream",
     "text": [
      "[nltk_data] Downloading package stopwords to\n",
      "[nltk_data]     C:\\Users\\aless\\AppData\\Roaming\\nltk_data...\n",
      "[nltk_data]   Package stopwords is already up-to-date!\n"
     ]
    }
   ],
   "source": [
    "nltk.download(\"stopwords\")\n",
    "en_stopwords = stopwords.words(\"english\")"
   ]
  },
  {
   "cell_type": "code",
   "execution_count": 4,
   "metadata": {},
   "outputs": [],
   "source": [
    "def text_cleaning(sentence):\n",
    "    \"\"\"\n",
    "    Clean a text string\n",
    "    \"\"\"\n",
    "    #lowercase\n",
    "    # sentence=sentence.lower()\n",
    "\n",
    "    #remove punctuation\n",
    "    for c in string.punctuation:\n",
    "        if(c !='@' and c !='.'):\n",
    "            sentence = sentence.replace(c,\"\")\n",
    "\n",
    "    #remove stopwords\n",
    "    sentence = \" \".join(word for word in sentence.split()\\\n",
    "                        if word not in en_stopwords)\n",
    "    \n",
    "    #trailing spaces\n",
    "    sentence = re.sub(r\" +\", \" \",sentence)\n",
    "    return sentence"
   ]
  },
  {
   "cell_type": "code",
   "execution_count": 5,
   "metadata": {},
   "outputs": [],
   "source": [
    "X = [text_cleaning(s) for s in X]"
   ]
  },
  {
   "cell_type": "markdown",
   "metadata": {},
   "source": [
    "## NER\n",
    "NER is performed by `en_core_web_sm` model from spacy.\n",
    "\n",
    "It can be downloaded from console with:\n",
    "```\n",
    "python -m spacy download en_core_web_sm\n",
    "```"
   ]
  },
  {
   "cell_type": "code",
   "execution_count": 6,
   "metadata": {},
   "outputs": [],
   "source": [
    "#load model\n",
    "nlp = spacy.load('en_core_web_sm')"
   ]
  },
  {
   "cell_type": "code",
   "execution_count": 7,
   "metadata": {},
   "outputs": [],
   "source": [
    "org_list = [] #ORG\n",
    "date_list = [] #DATE\n",
    "person_list = [] #PERSON\n",
    "loc_list = [] #LOC\n",
    "\n",
    "ner_tags = {\"ORG\":[], \"DATE\":[], \"PERSON\": [], \"LOC\":[]}\n",
    "\n",
    "for sentence in X:\n",
    "    doc = nlp(sentence)\n",
    "    for token in doc:\n",
    "        if token.ent_type_ in ner_tags:\n",
    "            ner_tags[token.ent_type_].append(str(token)) "
   ]
  },
  {
   "cell_type": "code",
   "execution_count": 8,
   "metadata": {},
   "outputs": [
    {
     "name": "stdout",
     "output_type": "stream",
     "text": [
      "ORG: ['Ryan', 'Robbins', 'IO20456@MAINE.MAINE.EDU', 'IMO', 'Jack', 'Morris', 'Organization', 'Massachusetts', 'Institute', 'Technology']\n",
      "DATE: ['5', 'years', 'ago', 'one', 'average', 'year', 'last', '5', 'tomorrow', 'last']\n",
      "PERSON: ['Len', 'Reed', 'Len', 'Reed', 'Holos', 'Software', 'Inc.', 'Charles', 'M', 'Kozierok']\n",
      "LOC: ['Mars', 'Venus', 'Mount', 'Carmel', 'Mt.', 'Everest', 'Mount', 'Everest', 'Mars', 'Mars']\n"
     ]
    }
   ],
   "source": [
    "for k in ner_tags:\n",
    "    # print(f\"{k}: {len(ner_tags[k])}\")\n",
    "    print(f\"{k}: {ner_tags[k][:10]}\")"
   ]
  }
 ],
 "metadata": {
  "kernelspec": {
   "display_name": "Python 3",
   "language": "python",
   "name": "python3"
  },
  "language_info": {
   "codemirror_mode": {
    "name": "ipython",
    "version": 3
   },
   "file_extension": ".py",
   "mimetype": "text/x-python",
   "name": "python",
   "nbconvert_exporter": "python",
   "pygments_lexer": "ipython3",
   "version": "3.11.1"
  }
 },
 "nbformat": 4,
 "nbformat_minor": 2
}
