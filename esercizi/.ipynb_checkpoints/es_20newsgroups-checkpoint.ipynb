{
 "cells": [
  {
   "cell_type": "markdown",
   "id": "0103296b",
   "metadata": {},
   "source": [
    "# Esercizio 20 news groups\n",
    "Fare text classification del dataset di [sklearn 20newsgroups](https://scikit-learn.org/stable/datasets/real_world.html#newsgroups-dataset), cioè data la stringa della news in input, predire il target corrispondente."
   ]
  },
  {
   "cell_type": "code",
   "execution_count": 10,
   "id": "e5dc54bd",
   "metadata": {},
   "outputs": [],
   "source": [
    "import pandas as pd\n",
    "from sklearn.datasets import fetch_20newsgroups\n",
    "from sklearn.feature_extraction.text import TfidfVectorizer\n",
    "import re\n",
    "from nltk.corpus import stopwords\n",
    "import nltk\n",
    "import string\n",
    "import seaborn as sns\n",
    "import matplotlib.pyplot as plt\n",
    "import numpy as np\n",
    "import spacy\n",
    "from tensorflow.keras.models import Model\n",
    "from tensorflow.keras.layers import Input, Dense\n",
    "from tensorflow.keras.backend import clear_session\n",
    "from tensorflow.keras.utils import plot_model"
   ]
  },
  {
   "cell_type": "code",
   "execution_count": 2,
   "id": "72d0bbcb",
   "metadata": {},
   "outputs": [],
   "source": [
    "X_train, y_train = fetch_20newsgroups(subset=\"train\", return_X_y=True)\n",
    "X_test, y_test = fetch_20newsgroups(subset=\"test\", return_X_y=True)"
   ]
  },
  {
   "cell_type": "code",
   "execution_count": 3,
   "id": "34579c68",
   "metadata": {},
   "outputs": [
    {
     "data": {
      "image/png": "[encoded data removed]",
      "text/plain": [
       "<Figure size 640x480 with 1 Axes>"
      ]
     },
     "metadata": {},
     "output_type": "display_data"
    }
   ],
   "source": [
    "# np.concatenate((y_train,y_test))\n",
    "sns.histplot(x=y_train,bins=20,discrete=True)\n",
    "plt.title(\"Target distribution\")\n",
    "plt.show()"
   ]
  },
  {
   "cell_type": "markdown",
   "id": "03cb967f",
   "metadata": {},
   "source": [
    "Balanced problem"
   ]
  },
  {
   "cell_type": "code",
   "execution_count": 4,
   "id": "5357708a",
   "metadata": {},
   "outputs": [
    {
     "name": "stderr",
     "output_type": "stream",
     "text": [
      "[nltk_data] Downloading package stopwords to\n",
      "[nltk_data]     C:\\Users\\aless\\AppData\\Roaming\\nltk_data...\n",
      "[nltk_data]   Package stopwords is already up-to-date!\n"
     ]
    }
   ],
   "source": [
    "#utils\n",
    "# nlp = spacy.load('en_core_web_sm')\n",
    "nltk.download(\"stopwords\")\n",
    "en_stopwords = stopwords.words(\"english\")"
   ]
  },
  {
   "cell_type": "code",
   "execution_count": 5,
   "id": "ce3d914b",
   "metadata": {},
   "outputs": [],
   "source": [
    "def text_cleaning(sentence):\n",
    "    \"\"\"\n",
    "    Clean a text string\n",
    "    \"\"\"\n",
    "    #lowercase\n",
    "    sentence=sentence.lower()\n",
    "    #remove punctuation\n",
    "    for c in string.punctuation:\n",
    "        sentence = sentence.replace(c,\"\")\n",
    "    #lemming\n",
    "#     doc = nlp(sentence)\n",
    "#     sentence = \" \".join(token.lemma_ for token in doc)\n",
    "    #remove stopwords\n",
    "    sentence = \" \".join(word for word in sentence.split()\\\n",
    "                        if word not in en_stopwords)\n",
    "    #numbers\n",
    "    sentence = re.sub(r\"\\d\", \"\",sentence)\n",
    "    #trailing spaces\n",
    "    sentence = re.sub(r\" +\", \" \",sentence)\n",
    "    return sentence"
   ]
  },
  {
   "cell_type": "code",
   "execution_count": 6,
   "id": "419b2c7d",
   "metadata": {},
   "outputs": [],
   "source": [
    "X_train = [text_cleaning(sentence) for sentence in X_train]\n",
    "X_test = [text_cleaning(sentence) for sentence in X_test]"
   ]
  },
  {
   "cell_type": "code",
   "execution_count": 11,
   "id": "30b8dd8f",
   "metadata": {},
   "outputs": [],
   "source": [
    "vectorizer = TfidfVectorizer()\n",
    "X_train = vectorizer.fit_transform(X_train).toarray()\n",
    "X_test = vectorizer.fit_transform(X_test).toarray()"
   ]
  },
  {
   "cell_type": "code",
   "execution_count": 18,
   "id": "c9ceb308",
   "metadata": {},
   "outputs": [
    {
     "name": "stdout",
     "output_type": "stream",
     "text": [
      "(11314, 117941)\n",
      "(7532, 85011)\n"
     ]
    }
   ],
   "source": [
    "print(X_train.shape)\n",
    "print(X_test.shape)"
   ]
  },
  {
   "cell_type": "code",
   "execution_count": 9,
   "id": "25e779f9",
   "metadata": {},
   "outputs": [],
   "source": [
    "clear_session()\n",
    "\n",
    "model = Sequential()\n",
    "model.add(Input(shape=()))"
   ]
  }
 ],
 "metadata": {
  "kernelspec": {
   "display_name": "Python 3 (ipykernel)",
   "language": "python",
   "name": "python3"
  },
  "language_info": {
   "codemirror_mode": {
    "name": "ipython",
    "version": 3
   },
   "file_extension": ".py",
   "mimetype": "text/x-python",
   "name": "python",
   "nbconvert_exporter": "python",
   "pygments_lexer": "ipython3",
   "version": "3.11.5"
  }
 },
 "nbformat": 4,
 "nbformat_minor": 5
}
